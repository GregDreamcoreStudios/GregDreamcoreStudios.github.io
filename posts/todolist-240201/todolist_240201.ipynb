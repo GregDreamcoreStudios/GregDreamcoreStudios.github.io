{
  "cells": [
    {
      "cell_type": "raw",
      "id": "90336106-b540-446d-ae0f-618ab4f9ed5c",
      "metadata": {
        "tags": [],
        "id": "90336106-b540-446d-ae0f-618ab4f9ed5c"
      },
      "source": [
        "---\n",
        "title: 'To-Do List 2024-02-01'\n",
        "subtitle: Plan for the Day!\n",
        "title-block-banner: '#2ad3f5'\n",
        "title-block-banner-color: '#000000'\n",
        "date: '2024-02-01'\n",
        "author: Gregory Sharma\n",
        "image: \"feb-1.jpg\"\n",
        "date-format: short\n",
        "published-title: Date\n",
        "format:\n",
        "  html:\n",
        "    theme: default\n",
        "    code-fold: true\n",
        "    echo: false\n",
        "    grid:\n",
        "      body-width: 1000px\n",
        "---"
      ]
    },
    {
      "cell_type": "markdown",
      "source": [
        "# To-Do List\n",
        "\n",
        "## Date: Thursday, February 1st, 2024\n",
        "\n",
        "### Tasks:\n",
        "1. [ ] 2:00 - 3:15 PM: PRL Class at Stern\n",
        "2. [ ] 6:00 PM: SohoMD Follow Up w/ Dr. Zeoli\n",
        "3. [ ] Task 3\n",
        "4. [ ] Task 4\n",
        "5. [ ] Task 5\n",
        "\n",
        "### Notes:\n",
        "- Want to Go Out w/ Katya in the Evening\n",
        "- Need to Pick a Dress w/ Her\n",
        "- Note 3\n",
        "\n",
        "### Completed Tasks:\n"
      ],
      "metadata": {
        "id": "68zHeui2oVge"
      },
      "id": "68zHeui2oVge"
    },
    {
      "cell_type": "code",
      "source": [],
      "metadata": {
        "id": "Z0RKhkbhoV3S"
      },
      "id": "Z0RKhkbhoV3S",
      "execution_count": null,
      "outputs": []
    }
  ],
  "metadata": {
    "kernelspec": {
      "display_name": "Python 3 (ipykernel)",
      "language": "python",
      "name": "python3"
    },
    "language_info": {
      "codemirror_mode": {
        "name": "ipython",
        "version": 3
      },
      "file_extension": ".py",
      "mimetype": "text/x-python",
      "name": "python",
      "nbconvert_exporter": "python",
      "pygments_lexer": "ipython3",
      "version": "3.11.5"
    },
    "colab": {
      "provenance": []
    }
  },
  "nbformat": 4,
  "nbformat_minor": 5
}